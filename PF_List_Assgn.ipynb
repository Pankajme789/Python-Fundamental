{
 "cells": [
  {
   "cell_type": "code",
   "execution_count": 3,
   "id": "9d26bd9d-a0c6-4b7c-9e6b-2d395c35211a",
   "metadata": {},
   "outputs": [
    {
     "name": "stdout",
     "output_type": "stream",
     "text": [
      "[]\n"
     ]
    }
   ],
   "source": [
    "#Q1. Create an empty list.\n",
    "\n",
    "empty_list = []\n",
    "\n",
    "print(empty_list)"
   ]
  },
  {
   "cell_type": "code",
   "execution_count": 11,
   "id": "91895cdc-0556-463d-bce8-da725b7e6b62",
   "metadata": {},
   "outputs": [
    {
     "name": "stdout",
     "output_type": "stream",
     "text": [
      "[1, 2, 5, 6, 7, 8, 3, 4]\n"
     ]
    }
   ],
   "source": [
    "#Q2. Create a list and add an element to the end of this list.\n",
    "\n",
    "my_list = [1,2,5,6,7,8]\n",
    "\n",
    "add_element1 = 3\n",
    "add_element2 = 4\n",
    "\n",
    "my_list.append(add_element1)\n",
    "my_list.append(add_element2)\n",
    "\n",
    "print(my_list)\n"
   ]
  },
  {
   "cell_type": "code",
   "execution_count": 31,
   "id": "2c977d0b-2f8b-49a9-ba32-ed113396fc6c",
   "metadata": {},
   "outputs": [
    {
     "name": "stdout",
     "output_type": "stream",
     "text": [
      "8\n"
     ]
    }
   ],
   "source": [
    "#Q3. For the above created list print the last element.\n",
    "\n",
    "my_list = [1,2,3,4,5,6,7,8]\n",
    "\n",
    "print(my_list[-1])\n",
    "\n"
   ]
  },
  {
   "cell_type": "code",
   "execution_count": 39,
   "id": "880664fa-1890-4875-a341-9094b3e97df5",
   "metadata": {},
   "outputs": [
    {
     "name": "stdout",
     "output_type": "stream",
     "text": [
      "[8, 7, 6, 5, 4, 3, 2, 1]\n"
     ]
    }
   ],
   "source": [
    "#Q4. Reverse the above created list.\n",
    "\n",
    "my_list = [1,2,3,4,5,6,7,8]\n",
    "\n",
    "reverse = my_list[::-1]\n",
    "\n",
    "print(reverse)"
   ]
  },
  {
   "cell_type": "code",
   "execution_count": 42,
   "id": "373f05f3-fc9a-4387-a35e-f0f858958f7e",
   "metadata": {},
   "outputs": [
    {
     "name": "stdout",
     "output_type": "stream",
     "text": [
      "[1, 2, 3, 4, 5, 6, 7, 8]\n"
     ]
    }
   ],
   "source": [
    "#Q5. Sort the above created list.\n",
    "\n",
    "my_list = [8, 7, 6, 5, 4, 3, 2, 1]\n",
    "\n",
    "my_list.sort()\n",
    "\n",
    "print(my_list)\n"
   ]
  },
  {
   "cell_type": "code",
   "execution_count": 48,
   "id": "954d3997-025f-49f9-ae24-2bd0d57b87f7",
   "metadata": {},
   "outputs": [
    {
     "name": "stdout",
     "output_type": "stream",
     "text": [
      "Naxal_story\n",
      "Article_360\n"
     ]
    }
   ],
   "source": [
    "#Q6. Create a list of your top three favorite movies, then print the second movie title.\n",
    "\n",
    "Fav_movie = ['Veer_Savarkar','Naxal_story','Article_360']\n",
    "\n",
    "print(Fav_movie[1])\n",
    "\n",
    "\n",
    "print(Fav_movie[2])"
   ]
  },
  {
   "cell_type": "code",
   "execution_count": 58,
   "id": "802e0efd-e904-417d-a43f-dd7f596eb03f",
   "metadata": {},
   "outputs": [
    {
     "name": "stdout",
     "output_type": "stream",
     "text": [
      "['Elephant', 'Monkey', 'Beer', 'Rat']\n"
     ]
    }
   ],
   "source": [
    "#Q7. Create a list of your favorite animals, then add a new animal to the list and print the updated list.\n",
    "\n",
    "Fav_animal = ['Elephant','Monkey','Beer']\n",
    "\n",
    "add_animal = 'Rat'\n",
    "Fav_animal.append(add_animal)\n",
    "\n",
    "print(Fav_animal)"
   ]
  },
  {
   "cell_type": "code",
   "execution_count": 71,
   "id": "fb6de7c1-43c1-4023-89a8-a76d06b39f3a",
   "metadata": {},
   "outputs": [
    {
     "name": "stdout",
     "output_type": "stream",
     "text": [
      "The index of 'indore' in the list is: 2\n"
     ]
    }
   ],
   "source": [
    "#Q8. Create a list of your favorite cities, then use the index() method to find the position of a specific city on the list and print it.\n",
    "\n",
    "fav_city = ('uttarkashi', 'dehradun','indore')\n",
    "\n",
    "find_city = 'indore'\n",
    "Index_fn = fav_city.index(find_city)\n",
    "\n",
    "print(f\"The index of '{find_city}' in the list is: {Index_fn}\")"
   ]
  },
  {
   "cell_type": "code",
   "execution_count": null,
   "id": "c65cc526-437f-4926-828a-2f589a98fc09",
   "metadata": {},
   "outputs": [],
   "source": []
  }
 ],
 "metadata": {
  "kernelspec": {
   "display_name": "Python 3 (ipykernel)",
   "language": "python",
   "name": "python3"
  },
  "language_info": {
   "codemirror_mode": {
    "name": "ipython",
    "version": 3
   },
   "file_extension": ".py",
   "mimetype": "text/x-python",
   "name": "python",
   "nbconvert_exporter": "python",
   "pygments_lexer": "ipython3",
   "version": "3.10.8"
  }
 },
 "nbformat": 4,
 "nbformat_minor": 5
}
