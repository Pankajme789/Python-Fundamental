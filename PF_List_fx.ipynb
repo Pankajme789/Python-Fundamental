{
 "cells": [
  {
   "cell_type": "code",
   "execution_count": 6,
   "id": "86b7a93d-c9c2-482d-baa1-9b99fe8f8a78",
   "metadata": {},
   "outputs": [
    {
     "name": "stdout",
     "output_type": "stream",
     "text": [
      "[90, 34, 65, 100]\n"
     ]
    }
   ],
   "source": [
    "#Q1. What is the syntax for adding an element to a list in Python?\n",
    "\n",
    "Aelement = [90,34,65]\n",
    "\n",
    "added = 100\n",
    "\n",
    "Aelement.append(added)\n",
    "\n",
    "print(Aelement)\n"
   ]
  },
  {
   "cell_type": "code",
   "execution_count": 9,
   "id": "4d55c1da-f05e-4106-bd25-8465d9e7fdfc",
   "metadata": {},
   "outputs": [
    {
     "name": "stdout",
     "output_type": "stream",
     "text": [
      "[100, 90, 34, 65]\n"
     ]
    }
   ],
   "source": [
    "\n",
    "Aelement = [90, 34, 65] \n",
    "added = 100 \n",
    "index_position = 0 \n",
    "\n",
    "Aelement.insert(index_position, added)\n",
    "\n",
    "print(Aelement)"
   ]
  },
  {
   "cell_type": "code",
   "execution_count": 20,
   "id": "ee02f2d4-5841-4d78-a32e-f24fa0e5dd38",
   "metadata": {},
   "outputs": [
    {
     "name": "stdout",
     "output_type": "stream",
     "text": [
      "[90, 34]\n"
     ]
    }
   ],
   "source": [
    "#Q2. What is the difference between remove() and pop() functions in Python?\n",
    "\n",
    "\n",
    "#remove mothod : to remove data using string.\n",
    "\n",
    "Aelement = [90, 34, 65]\n",
    "\n",
    "Aelement.remove(65)  #Remove Mothod\n",
    "\n",
    "print(Aelement)\n"
   ]
  },
  {
   "cell_type": "code",
   "execution_count": 22,
   "id": "7d39961e-80c6-4f50-854e-6de0bf80e58d",
   "metadata": {},
   "outputs": [
    {
     "name": "stdout",
     "output_type": "stream",
     "text": [
      "[90, 34]\n"
     ]
    }
   ],
   "source": [
    "#POP Method : to remove data using index number.\n",
    " \n",
    "Aelement = [90, 34, 65]\n",
    "Aelement.pop(2)\n",
    "\n",
    "print(Aelement)"
   ]
  },
  {
   "cell_type": "code",
   "execution_count": 27,
   "id": "d6b9f486-328f-4c7f-aa5f-05e921b6b11b",
   "metadata": {},
   "outputs": [
    {
     "name": "stdout",
     "output_type": "stream",
     "text": [
      "[192, 101, 90, 65, 34]\n"
     ]
    }
   ],
   "source": [
    "#Q3. Write a Python code to sort a list in descending order.\n",
    "\n",
    "Aelement = [90, 34, 65,101,192]\n",
    "\n",
    "Aelement.sort(reverse=True)\n",
    "\n",
    "print(Aelement)"
   ]
  },
  {
   "cell_type": "code",
   "execution_count": 28,
   "id": "4131ac97-4242-4224-8f90-84e71f90a90d",
   "metadata": {},
   "outputs": [
    {
     "name": "stdout",
     "output_type": "stream",
     "text": [
      "Number of occurrences of 2 in the list: 4\n"
     ]
    }
   ],
   "source": [
    "#Q4. Write a Python code to count the number of occurrences of an element in a list.\n",
    "\n",
    "my_list = [1, 2, 3, 4, 2, 2, 5, 6, 2, 7]\n",
    "\n",
    "element_to_count = 2\n",
    "\n",
    "count = my_list.count(element_to_count)\n",
    "\n",
    "print(f\"Number of occurrences of {element_to_count} in the list: {count}\")\n"
   ]
  },
  {
   "cell_type": "code",
   "execution_count": 30,
   "id": "eda4fdf2-e781-4d76-ba65-6304f9eb50b2",
   "metadata": {},
   "outputs": [
    {
     "name": "stdout",
     "output_type": "stream",
     "text": [
      "Reversed list: [5, 4, 3, 2, 1]\n"
     ]
    }
   ],
   "source": [
    "#Q5. Write a Python code to reverse a list.\n",
    "\n",
    "my_list = [1, 2, 3, 4, 5]\n",
    "\n",
    "reversed_list = my_list[::-1]\n",
    "\n",
    "print(\"Reversed list:\", reversed_list)\n"
   ]
  },
  {
   "cell_type": "code",
   "execution_count": null,
   "id": "c5df007a-9c7f-454b-b57e-e2609eec570e",
   "metadata": {},
   "outputs": [],
   "source": []
  }
 ],
 "metadata": {
  "kernelspec": {
   "display_name": "Python 3 (ipykernel)",
   "language": "python",
   "name": "python3"
  },
  "language_info": {
   "codemirror_mode": {
    "name": "ipython",
    "version": 3
   },
   "file_extension": ".py",
   "mimetype": "text/x-python",
   "name": "python",
   "nbconvert_exporter": "python",
   "pygments_lexer": "ipython3",
   "version": "3.10.8"
  }
 },
 "nbformat": 4,
 "nbformat_minor": 5
}
