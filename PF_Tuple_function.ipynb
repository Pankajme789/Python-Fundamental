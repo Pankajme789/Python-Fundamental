{
 "cells": [
  {
   "cell_type": "code",
   "execution_count": null,
   "id": "bcc1bedc-7982-4849-a1fc-c17f24177e66",
   "metadata": {},
   "outputs": [],
   "source": [
    "#Q1. What is a tuple in Python?\n",
    "\n",
    "\"\"\"In Python, a tuple is an immutable sequence of elements, similar to a list. However, unlike lists, tuples cannot be modified once they are created. \n",
    "This means that tuples are immutable, while lists are mutable.\"\"\"\n"
   ]
  },
  {
   "cell_type": "code",
   "execution_count": null,
   "id": "16da7838-3608-4808-9e77-a92e43051047",
   "metadata": {},
   "outputs": [],
   "source": [
    "#Q2. How do you create a tuple in Python?\n",
    "\n",
    "\"\"\"In Python, you can create a tuple using parentheses () to enclose the elements of the tuple. Here are a few ways to create tuples\n"
   ]
  },
  {
   "cell_type": "code",
   "execution_count": 2,
   "id": "2292f2b7-df64-45b1-9cb9-74535e1cfb0b",
   "metadata": {},
   "outputs": [],
   "source": [
    "#Using Parentheses\n",
    "\n",
    "tuple1 = (1, 2, 3, 4, 5)\n",
    "\n",
    "tuple2 = ('apple', 'banana', 'cherry')\n",
    "\n",
    "tuple3 = (1, 'apple', 3.14, True)\n",
    "\n",
    "\n",
    "#Using the tuple() Constructor\n",
    "\n",
    "list1 = [1, 2, 3]\n",
    "\n",
    "tuple4 = tuple(list1)\n",
    "\n",
    "tuple5 = tuple('hello') "
   ]
  },
  {
   "cell_type": "code",
   "execution_count": null,
   "id": "214a0c8f-04af-43dc-9521-0699e116c0e1",
   "metadata": {},
   "outputs": [],
   "source": [
    "#Q3. What is the difference between a tuple and a list in Python?\n",
    "\n",
    "\"\"\"In Python, tuples and lists are both used to store collections of items, but they have some key differences:\n",
    "\n",
    "    #Mutability:\n",
    "\n",
    "    Tuple: Tuples are immutable, meaning once they are created, the elements within them cannot be changed, added, or removed. \n",
    "    You can't alter the size or content of a tuple after it's created.\n",
    "    \n",
    "    List: Lists are mutable, so you can add, remove, or modify elements freely after creation. Lists are dynamic and can change in size.\n",
    "\n",
    "    #Syntax:\n",
    "\n",
    "    Tuple: Tuples are defined using parentheses (). Elements are separated by commas. For example, my_tuple = (1, 2, 3).\n",
    "    \n",
    "    List: Lists are defined using square brackets []. Elements are also separated by commas. For example, my_list = [1, 2, 3].\n"
   ]
  },
  {
   "cell_type": "code",
   "execution_count": null,
   "id": "2fb8a729-610e-4b2d-b61d-4e315460f48a",
   "metadata": {},
   "outputs": [],
   "source": [
    "#Q4. Can a tuple be changed in Python?\n",
    "\n",
    "\"\"\"In Python, tuples are immutable, which means once a tuple is created, you cannot change its contents. \n",
    "   This immutability applies to both the elements contained within the tuple and the size of the tuple itself. \n",
    "   Here's what this means in practical terms:"
   ]
  },
  {
   "cell_type": "code",
   "execution_count": 3,
   "id": "984e7f93-0b8f-40b8-bb39-44bae0ae43cb",
   "metadata": {},
   "outputs": [],
   "source": [
    "#Q5. How do you access elements in a tuple?\n",
    "\n",
    "\"\"\"In Python, elements in a tuple are accessed using indexing and slicing. Here’s how you can access elements in a tuple:\n",
    "\n",
    "    #Indexing\n",
    "\n",
    "    You can access individual elements in a tuple using square brackets [] with the index of the element you want. \n",
    "    Tuple indexing starts at 0 for the first element, 1 for the second element, and so on.\n",
    "\n",
    "    #Negative Indexing\n",
    "\n",
    "    You can also use negative indices to access elements from the end of the tuple. \n",
    "    -1 refers to the last element, -2 refers to the second last element, and so on."
   ]
  },
  {
   "cell_type": "code",
   "execution_count": null,
   "id": "242f43b7-2b15-45d7-9fb7-18a18f4d29ed",
   "metadata": {},
   "outputs": [],
   "source": [
    "#Q6. How do you unpack a tuple in Python?"
   ]
  }
 ],
 "metadata": {
  "kernelspec": {
   "display_name": "Python 3 (ipykernel)",
   "language": "python",
   "name": "python3"
  },
  "language_info": {
   "codemirror_mode": {
    "name": "ipython",
    "version": 3
   },
   "file_extension": ".py",
   "mimetype": "text/x-python",
   "name": "python",
   "nbconvert_exporter": "python",
   "pygments_lexer": "ipython3",
   "version": "3.10.8"
  }
 },
 "nbformat": 4,
 "nbformat_minor": 5
}
