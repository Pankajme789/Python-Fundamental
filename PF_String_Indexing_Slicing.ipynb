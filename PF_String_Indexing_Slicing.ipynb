{
 "cells": [
  {
   "cell_type": "code",
   "execution_count": 17,
   "id": "8656058c-7396-47a1-97ee-da7bde31c03b",
   "metadata": {},
   "outputs": [
    {
     "name": "stdout",
     "output_type": "stream",
     "text": [
      "Ram & shyam\n"
     ]
    }
   ],
   "source": [
    "#Q1 How can we store a single quote (‘) as a string 1n a variable?\n",
    "\n",
    "#Answer:\n",
    "    \n",
    "single_quote = 'Ram & shyam'\n",
    "print(single_quote)"
   ]
  },
  {
   "cell_type": "code",
   "execution_count": 15,
   "id": "1f8f00f3-c00b-4992-9b98-5ae3c2254495",
   "metadata": {},
   "outputs": [
    {
     "name": "stdout",
     "output_type": "stream",
     "text": [
      "<class 'str'>\n"
     ]
    }
   ],
   "source": [
    "#Q2. Refer the below variable.\n",
    "# x = ‘a'\n",
    "# Here, is x a character type or string type variable? Support your answer with an explanation\n",
    "\n",
    "#Answer\n",
    "\n",
    "x = 'a'\n",
    "print(type(x))"
   ]
  },
  {
   "cell_type": "code",
   "execution_count": 43,
   "id": "036ef165-601a-47e2-8a9d-7e0ce5dd9d37",
   "metadata": {},
   "outputs": [
    {
     "name": "stdout",
     "output_type": "stream",
     "text": [
      "30\n"
     ]
    }
   ],
   "source": [
    "#Que3 Apply the following functions on this variable: ‘Welcome to Python foundation course'\n",
    "#1. find()\n",
    "#2. count()\n",
    "#3. len()\n",
    "#4. Concatenation\n",
    "#Note: You can use your choice of parameters, But make sure it 1s correct.\n",
    "\n",
    "#Answer.\n",
    "#find()\n",
    "fn='Welcome to phython foundation course'\n",
    "#find()\n",
    "w = fn.find('course')\n",
    "print(w)\n"
   ]
  },
  {
   "cell_type": "code",
   "execution_count": 46,
   "id": "ea723a49-1b8e-4eff-bdfc-6b88097ab765",
   "metadata": {},
   "outputs": [
    {
     "name": "stdout",
     "output_type": "stream",
     "text": [
      "6\n"
     ]
    }
   ],
   "source": [
    "#count()\n",
    "w = fn.count('o')\n",
    "print(w)"
   ]
  },
  {
   "cell_type": "code",
   "execution_count": 48,
   "id": "0dadef05-f8fa-4cc8-8c05-71be16ce7f1b",
   "metadata": {},
   "outputs": [
    {
     "name": "stdout",
     "output_type": "stream",
     "text": [
      "36\n"
     ]
    }
   ],
   "source": [
    "#len()\n",
    "w = len(fn)\n",
    "print(w)"
   ]
  },
  {
   "cell_type": "code",
   "execution_count": 6,
   "id": "7ac22a5e-9b6e-4933-8831-0d2fa719e0a3",
   "metadata": {},
   "outputs": [
    {
     "name": "stdout",
     "output_type": "stream",
     "text": [
      "Welcome to phython foundation course First batch\n"
     ]
    }
   ],
   "source": [
    "#Concatination\n",
    "fn='Welcome to phython foundation course '\n",
    "add_text = 'First batch'\n",
    "CC = fn + add_text\n",
    "print (CC)"
   ]
  },
  {
   "cell_type": "code",
   "execution_count": 15,
   "id": "3dd4c4c6-41a5-48a9-a90d-5d5acd306325",
   "metadata": {},
   "outputs": [],
   "source": [
    "#Q4. For the variable:word = ‘Panaji@12256'\n",
    "#Calculate the follow1ng:\n",
    "#(a) Total number of alphabets in lowercase\n",
    "#(b) Total number of alphabets in uppercase\n",
    "#(c) Total number of numer1cal in str1ng."
   ]
  },
  {
   "cell_type": "code",
   "execution_count": 18,
   "id": "700abe43-a5de-415d-9831-46e300d96104",
   "metadata": {},
   "outputs": [
    {
     "name": "stdout",
     "output_type": "stream",
     "text": [
      "Total number of lowercase alphabets: 5\n",
      "Total number of uppercase alphabets: 1\n",
      "Total number of numerical digits: 5\n"
     ]
    }
   ],
   "source": [
    "#Answer\n",
    "word = 'Panaji@12256'\n",
    "\n",
    "lowercase = sum(1 for char in word if char.islower())\n",
    "print(f\"Total number of lowercase alphabets: {lowercase}\")\n",
    "\n",
    "uppercase = sum(1 for char in word if char.isupper())\n",
    "print(f\"Total number of uppercase alphabets: {uppercase}\")\n",
    "\n",
    "numeric = sum(1 for char in word if char.isdigit())\n",
    "print(f\"Total number of numerical digits: {numeric}\")"
   ]
  },
  {
   "cell_type": "code",
   "execution_count": 20,
   "id": "7d0357b0-5fc8-4688-aa84-bacb3c348aa5",
   "metadata": {},
   "outputs": [],
   "source": [
    "#Q5. Write a code to store a numerical value inside a variable then convert it into string."
   ]
  },
  {
   "cell_type": "code",
   "execution_count": 22,
   "id": "fdce8c62-15a2-4f67-a546-5e5cda5d3781",
   "metadata": {},
   "outputs": [
    {
     "name": "stdout",
     "output_type": "stream",
     "text": [
      "Type of numerical_value before conversion: <class 'int'>\n",
      "Type of numerical_string after conversion: <class 'str'>\n",
      "Numerical value as string: 12345\n"
     ]
    }
   ],
   "source": [
    "#Answer\n",
    "\n",
    "numerical_value = 12345\n",
    "\n",
    "numerical_string = str(numerical_value)\n",
    "\n",
    "print(f\"Type of numerical_value before conversion: {type(numerical_value)}\")\n",
    "print(f\"Type of numerical_string after conversion: {type(numerical_string)}\")\n",
    "\n",
    "print(f\"Numerical value as string: {numerical_string}\")\n",
    "\n"
   ]
  },
  {
   "cell_type": "code",
   "execution_count": null,
   "id": "df7130c2-cc2a-42f0-a34b-847764e470c1",
   "metadata": {},
   "outputs": [],
   "source": []
  },
  {
   "cell_type": "code",
   "execution_count": null,
   "id": "b3431148-2bd6-4d87-84e1-2f7d5d33814e",
   "metadata": {},
   "outputs": [],
   "source": []
  }
 ],
 "metadata": {
  "kernelspec": {
   "display_name": "Python 3 (ipykernel)",
   "language": "python",
   "name": "python3"
  },
  "language_info": {
   "codemirror_mode": {
    "name": "ipython",
    "version": 3
   },
   "file_extension": ".py",
   "mimetype": "text/x-python",
   "name": "python",
   "nbconvert_exporter": "python",
   "pygments_lexer": "ipython3",
   "version": "3.10.8"
  }
 },
 "nbformat": 4,
 "nbformat_minor": 5
}
